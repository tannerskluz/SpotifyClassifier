{
 "metadata": {
  "language_info": {
   "codemirror_mode": {
    "name": "ipython",
    "version": 3
   },
   "file_extension": ".py",
   "mimetype": "text/x-python",
   "name": "python",
   "nbconvert_exporter": "python",
   "pygments_lexer": "ipython3",
   "version": "3.8.5"
  },
  "orig_nbformat": 2,
  "kernelspec": {
   "name": "python385jvsc74a57bd02ef4cc7c25fbb33b83437a56575c74e505d21608b0b29a49c1f884e0d52c1d99",
   "display_name": "Python 3.8.5 64-bit (conda)"
  }
 },
 "nbformat": 4,
 "nbformat_minor": 2,
 "cells": [
  {
   "cell_type": "code",
   "execution_count": 13,
   "metadata": {},
   "outputs": [
    {
     "output_type": "execute_result",
     "data": {
      "text/plain": [
       "   acousticness  danceability  energy  popularity  speechiness  year\n",
       "0      0.991000         0.598   0.224          12       0.0936  1920\n",
       "1      0.643000         0.852   0.517           7       0.0534  1920\n",
       "2      0.993000         0.647   0.186           4       0.1740  1920\n",
       "3      0.000173         0.730   0.798          17       0.0425  1920\n",
       "4      0.295000         0.704   0.707           2       0.0768  1920"
      ],
      "text/html": "<div>\n<style scoped>\n    .dataframe tbody tr th:only-of-type {\n        vertical-align: middle;\n    }\n\n    .dataframe tbody tr th {\n        vertical-align: top;\n    }\n\n    .dataframe thead th {\n        text-align: right;\n    }\n</style>\n<table border=\"1\" class=\"dataframe\">\n  <thead>\n    <tr style=\"text-align: right;\">\n      <th></th>\n      <th>acousticness</th>\n      <th>danceability</th>\n      <th>energy</th>\n      <th>popularity</th>\n      <th>speechiness</th>\n      <th>year</th>\n    </tr>\n  </thead>\n  <tbody>\n    <tr>\n      <th>0</th>\n      <td>0.991000</td>\n      <td>0.598</td>\n      <td>0.224</td>\n      <td>12</td>\n      <td>0.0936</td>\n      <td>1920</td>\n    </tr>\n    <tr>\n      <th>1</th>\n      <td>0.643000</td>\n      <td>0.852</td>\n      <td>0.517</td>\n      <td>7</td>\n      <td>0.0534</td>\n      <td>1920</td>\n    </tr>\n    <tr>\n      <th>2</th>\n      <td>0.993000</td>\n      <td>0.647</td>\n      <td>0.186</td>\n      <td>4</td>\n      <td>0.1740</td>\n      <td>1920</td>\n    </tr>\n    <tr>\n      <th>3</th>\n      <td>0.000173</td>\n      <td>0.730</td>\n      <td>0.798</td>\n      <td>17</td>\n      <td>0.0425</td>\n      <td>1920</td>\n    </tr>\n    <tr>\n      <th>4</th>\n      <td>0.295000</td>\n      <td>0.704</td>\n      <td>0.707</td>\n      <td>2</td>\n      <td>0.0768</td>\n      <td>1920</td>\n    </tr>\n  </tbody>\n</table>\n</div>"
     },
     "metadata": {},
     "execution_count": 13
    }
   ],
   "source": [
    "import pandas as pd\n",
    "import matplotlib.pyplot as plt\n",
    "import seaborn as sns\n",
    "import sklearn.model_selection as ms\n",
    "from sklearn.linear_model import Perceptron\n",
    "from sklearn.neural_network import MLPClassifier\n",
    "from sklearn.model_selection import StratifiedKFold\n",
    "from sklearn.model_selection import cross_val_score, cross_validate\n",
    "from imblearn.over_sampling import SMOTE \n",
    "from sklearn.preprocessing import StandardScaler \n",
    "from sklearn.pipeline import make_pipeline\n",
    "\n",
    "url = 'https://raw.githubusercontent.com/tannerskluz/SpotifyClassifier/main/data.csv'\n",
    "df = pd.read_csv(url)\n",
    "labels = df['explicit']\n",
    "df.drop(columns=['id', 'name', 'artists', 'release_date', 'explicit','duration_ms',\n",
    "    'key', 'liveness', 'mode', 'tempo', 'valence', 'loudness', 'instrumentalness'],inplace=True)\n",
    "df.head()"
   ]
  },
  {
   "cell_type": "code",
   "execution_count": 14,
   "metadata": {},
   "outputs": [
    {
     "output_type": "display_data",
     "data": {
      "text/plain": "'Perceptron Train-test split score: 0.8436507741157359'"
     },
     "metadata": {}
    },
    {
     "output_type": "display_data",
     "data": {
      "text/plain": "'MLP Train-test split score: 0.8965958598961282'"
     },
     "metadata": {}
    },
    {
     "output_type": "display_data",
     "data": {
      "text/plain": "'Perceptron accuracy with 5-fold cross validation score: 0.6416153309272796'"
     },
     "metadata": {}
    },
    {
     "output_type": "display_data",
     "data": {
      "text/plain": "'MLP accuracy with 5-fold cross validation score: 0.8893955000061835'"
     },
     "metadata": {}
    },
    {
     "output_type": "display_data",
     "data": {
      "text/plain": "'Perceptron precision with 5-fold cross validation score: 0.6935646868338796'"
     },
     "metadata": {}
    },
    {
     "output_type": "display_data",
     "data": {
      "text/plain": "'MLP precision with 5-fold cross validation score: 0.8720081136144853'"
     },
     "metadata": {}
    },
    {
     "output_type": "display_data",
     "data": {
      "text/plain": "'Perceptron recall with 5-fold cross validation score: 0.7790960730647896'"
     },
     "metadata": {}
    },
    {
     "output_type": "display_data",
     "data": {
      "text/plain": "'MLP recall with 5-fold cross validation score: 0.9133328996124233'"
     },
     "metadata": {}
    },
    {
     "output_type": "display_data",
     "data": {
      "text/plain": "'Perceptron f1 with 5-fold cross validation score: 0.6025963629863867'"
     },
     "metadata": {}
    },
    {
     "output_type": "display_data",
     "data": {
      "text/plain": "'MLP f1 with 5-fold cross validation score: 0.8919834447260827'"
     },
     "metadata": {}
    }
   ],
   "source": [
    "clf = Perceptron(tol=1e-6, random_state=10)\n",
    "scaler = StandardScaler()\n",
    "clf_mlp = make_pipeline(scaler, MLPClassifier(hidden_layer_sizes=(10, 5), random_state=1, max_iter = 1000))\n",
    "\n",
    "# generate synthetic samples from minority class using kNN\n",
    "sm = SMOTE(random_state=0, sampling_strategy='minority')\n",
    "X_res, y_res = sm.fit_resample(df, labels)\n",
    "\n",
    "X_train, X_test, y_train, y_test = ms.train_test_split(X_res, y_res, random_state=0)\n",
    "\n",
    "\n",
    "scaler.fit(X_train)\n",
    "X_train = scaler.transform(X_train)  \n",
    "X_test = scaler.transform(X_test)  \n",
    "\n",
    "clf.fit(X_train, y_train)\n",
    "display(\"Perceptron Train-test split score: \" + str(clf.score(X_test, y_test)))\n",
    "\n",
    "clf_mlp.fit(X_train, y_train)\n",
    "display(\"MLP Train-test split score: \" + str(clf_mlp.score(X_test, y_test)))\n",
    "\n",
    "strat_k_fold = StratifiedKFold(n_splits=5)\n",
    "\n",
    "score = cross_val_score(clf, X_res, y_res, cv=strat_k_fold, scoring='accuracy').mean()\n",
    "display(\"Perceptron accuracy with 5-fold cross validation score: \" + str(score))\n",
    "score = cross_val_score(clf_mlp, X_res, y_res, cv=strat_k_fold, scoring='accuracy').mean()\n",
    "display(\"MLP accuracy with 5-fold cross validation score: \" + str(score))\n",
    "\n",
    "score = cross_val_score(clf, X_res, y_res, cv=strat_k_fold, scoring='precision').mean()\n",
    "display(\"Perceptron precision with 5-fold cross validation score: \" + str(score))\n",
    "score = cross_val_score(clf_mlp, X_res, y_res, cv=strat_k_fold, scoring='precision').mean()\n",
    "display(\"MLP precision with 5-fold cross validation score: \" + str(score))\n",
    "\n",
    "score = cross_val_score(clf, X_res, y_res, cv=strat_k_fold, scoring='recall').mean()\n",
    "display(\"Perceptron recall with 5-fold cross validation score: \" + str(score))\n",
    "score = cross_val_score(clf_mlp, X_res, y_res, cv=strat_k_fold, scoring='recall').mean()\n",
    "display(\"MLP recall with 5-fold cross validation score: \" + str(score))\n",
    "\n",
    "score = cross_val_score(clf, X_res, y_res, cv=strat_k_fold, scoring='f1').mean()\n",
    "display(\"Perceptron f1 with 5-fold cross validation score: \" + str(score))\n",
    "score = cross_val_score(clf_mlp, X_res, y_res, cv=strat_k_fold, scoring='f1').mean()\n",
    "display(\"MLP f1 with 5-fold cross validation score: \" + str(score))\n"
   ]
  }
 ]
}