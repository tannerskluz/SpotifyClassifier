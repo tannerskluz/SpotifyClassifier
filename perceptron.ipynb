{
 "metadata": {
  "language_info": {
   "codemirror_mode": {
    "name": "ipython",
    "version": 3
   },
   "file_extension": ".py",
   "mimetype": "text/x-python",
   "name": "python",
   "nbconvert_exporter": "python",
   "pygments_lexer": "ipython3",
   "version": "3.8.5-final"
  },
  "orig_nbformat": 2,
  "kernelspec": {
   "name": "python385jvsc74a57bd02ef4cc7c25fbb33b83437a56575c74e505d21608b0b29a49c1f884e0d52c1d99",
   "display_name": "Python 3.8.5 64-bit (conda)"
  }
 },
 "nbformat": 4,
 "nbformat_minor": 2,
 "cells": [
  {
   "cell_type": "code",
   "execution_count": 30,
   "metadata": {},
   "outputs": [
    {
     "output_type": "execute_result",
     "data": {
      "text/plain": [
       "   acousticness  danceability  duration_ms  energy  instrumentalness  key  \\\n",
       "0      0.991000         0.598       168333   0.224          0.000522    5   \n",
       "1      0.643000         0.852       150200   0.517          0.026400    5   \n",
       "2      0.993000         0.647       163827   0.186          0.000018    0   \n",
       "3      0.000173         0.730       422087   0.798          0.801000    2   \n",
       "4      0.295000         0.704       165224   0.707          0.000246   10   \n",
       "\n",
       "   liveness  loudness  mode  popularity  speechiness    tempo  valence  year  \n",
       "0    0.3790   -12.628     0          12       0.0936  149.976   0.6340  1920  \n",
       "1    0.0809    -7.261     0           7       0.0534   86.889   0.9500  1920  \n",
       "2    0.5190   -12.098     1           4       0.1740   97.600   0.6890  1920  \n",
       "3    0.1280    -7.311     1          17       0.0425  127.997   0.0422  1920  \n",
       "4    0.4020    -6.036     0           2       0.0768  122.076   0.2990  1920  "
      ],
      "text/html": "<div>\n<style scoped>\n    .dataframe tbody tr th:only-of-type {\n        vertical-align: middle;\n    }\n\n    .dataframe tbody tr th {\n        vertical-align: top;\n    }\n\n    .dataframe thead th {\n        text-align: right;\n    }\n</style>\n<table border=\"1\" class=\"dataframe\">\n  <thead>\n    <tr style=\"text-align: right;\">\n      <th></th>\n      <th>acousticness</th>\n      <th>danceability</th>\n      <th>duration_ms</th>\n      <th>energy</th>\n      <th>instrumentalness</th>\n      <th>key</th>\n      <th>liveness</th>\n      <th>loudness</th>\n      <th>mode</th>\n      <th>popularity</th>\n      <th>speechiness</th>\n      <th>tempo</th>\n      <th>valence</th>\n      <th>year</th>\n    </tr>\n  </thead>\n  <tbody>\n    <tr>\n      <th>0</th>\n      <td>0.991000</td>\n      <td>0.598</td>\n      <td>168333</td>\n      <td>0.224</td>\n      <td>0.000522</td>\n      <td>5</td>\n      <td>0.3790</td>\n      <td>-12.628</td>\n      <td>0</td>\n      <td>12</td>\n      <td>0.0936</td>\n      <td>149.976</td>\n      <td>0.6340</td>\n      <td>1920</td>\n    </tr>\n    <tr>\n      <th>1</th>\n      <td>0.643000</td>\n      <td>0.852</td>\n      <td>150200</td>\n      <td>0.517</td>\n      <td>0.026400</td>\n      <td>5</td>\n      <td>0.0809</td>\n      <td>-7.261</td>\n      <td>0</td>\n      <td>7</td>\n      <td>0.0534</td>\n      <td>86.889</td>\n      <td>0.9500</td>\n      <td>1920</td>\n    </tr>\n    <tr>\n      <th>2</th>\n      <td>0.993000</td>\n      <td>0.647</td>\n      <td>163827</td>\n      <td>0.186</td>\n      <td>0.000018</td>\n      <td>0</td>\n      <td>0.5190</td>\n      <td>-12.098</td>\n      <td>1</td>\n      <td>4</td>\n      <td>0.1740</td>\n      <td>97.600</td>\n      <td>0.6890</td>\n      <td>1920</td>\n    </tr>\n    <tr>\n      <th>3</th>\n      <td>0.000173</td>\n      <td>0.730</td>\n      <td>422087</td>\n      <td>0.798</td>\n      <td>0.801000</td>\n      <td>2</td>\n      <td>0.1280</td>\n      <td>-7.311</td>\n      <td>1</td>\n      <td>17</td>\n      <td>0.0425</td>\n      <td>127.997</td>\n      <td>0.0422</td>\n      <td>1920</td>\n    </tr>\n    <tr>\n      <th>4</th>\n      <td>0.295000</td>\n      <td>0.704</td>\n      <td>165224</td>\n      <td>0.707</td>\n      <td>0.000246</td>\n      <td>10</td>\n      <td>0.4020</td>\n      <td>-6.036</td>\n      <td>0</td>\n      <td>2</td>\n      <td>0.0768</td>\n      <td>122.076</td>\n      <td>0.2990</td>\n      <td>1920</td>\n    </tr>\n  </tbody>\n</table>\n</div>"
     },
     "metadata": {},
     "execution_count": 30
    }
   ],
   "source": [
    "import pandas as pd\n",
    "import matplotlib.pyplot as plt\n",
    "import seaborn as sns\n",
    "import sklearn.model_selection as ms\n",
    "from sklearn.linear_model import Perceptron\n",
    "from sklearn.model_selection import StratifiedKFold\n",
    "from sklearn.model_selection import cross_val_score\n",
    "\n",
    "url = 'https://raw.githubusercontent.com/tannerskluz/SpotifyClassifier/main/data.csv'\n",
    "df = pd.read_csv(url)\n",
    "labels = df['explicit']\n",
    "df.drop(columns=['id', 'name', 'artists', 'release_date', 'explicit'],inplace=True)\n",
    "df.head()"
   ]
  },
  {
   "cell_type": "code",
   "execution_count": 31,
   "metadata": {},
   "outputs": [
    {
     "output_type": "display_data",
     "data": {
      "text/plain": "'Train-test split score: 0.9307995779622918'"
     },
     "metadata": {}
    },
    {
     "output_type": "display_data",
     "data": {
      "text/plain": "'Score with 10-fold cross validation score: 0.9235502706627854'"
     },
     "metadata": {}
    }
   ],
   "source": [
    "clf = Perceptron(tol=1e-3, random_state=10)\n",
    "X_train, X_test, y_train, y_test = ms.train_test_split(df, labels, random_state=0)\n",
    "clf.fit(X_train, y_train)\n",
    "display(\"Train-test split score: \" + str(clf.score(X_test, y_test)))\n",
    "\n",
    "strat_k_fold = StratifiedKFold(n_splits=10)\n",
    "score = cross_val_score(clf, df, labels, cv=strat_k_fold, scoring='accuracy').mean()\n",
    "display(\"Score with 10-fold cross validation score: \" + str(score))"
   ]
  },
  {
   "cell_type": "code",
   "execution_count": null,
   "metadata": {},
   "outputs": [],
   "source": []
  }
 ]
}