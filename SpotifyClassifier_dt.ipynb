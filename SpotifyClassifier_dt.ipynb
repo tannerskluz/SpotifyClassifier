{
 "cells": [
  {
   "cell_type": "markdown",
   "metadata": {
    "colab_type": "text",
    "id": "view-in-github"
   },
   "source": [
    "<a href=\"https://colab.research.google.com/github/tannerskluz/SpotifyClassifier/blob/main/base_nb.ipynb\" target=\"_parent\"><img src=\"https://colab.research.google.com/assets/colab-badge.svg\" alt=\"Open In Colab\"/></a>"
   ]
  },
  {
   "cell_type": "markdown",
   "metadata": {
    "id": "OxMO4POwf-Oq"
   },
   "source": [
    "# Load libraries"
   ]
  },
  {
   "cell_type": "code",
   "execution_count": null,
   "metadata": {
    "id": "qNb4UK7CgDn_"
   },
   "outputs": [],
   "source": [
    "import pandas as pd\n",
    "import matplotlib.pyplot as plt\n",
    "import seaborn as sns"
   ]
  },
  {
   "cell_type": "markdown",
   "metadata": {
    "id": "OjPIhompeP0F"
   },
   "source": [
    "# Load song dataset"
   ]
  },
  {
   "cell_type": "code",
   "execution_count": null,
   "metadata": {
    "id": "-HsvXMExf1Vl"
   },
   "outputs": [],
   "source": [
    "url = 'https://raw.githubusercontent.com/tannerskluz/SpotifyClassifier/main/data.csv'\n",
    "df = pd.read_csv(url)\n",
    "df.head()"
   ]
  },
  {
   "cell_type": "code",
   "execution_count": null,
   "metadata": {
    "colab": {
     "base_uri": "https://localhost:8080/"
    },
    "id": "4CyPl0pQtnly",
    "outputId": "977fb1a0-25e1-4db6-f271-9a6dba86b2f0"
   },
   "outputs": [],
   "source": [
    "df.info()"
   ]
  },
  {
   "cell_type": "code",
   "execution_count": null,
   "metadata": {
    "colab": {
     "base_uri": "https://localhost:8080/"
    },
    "id": "VV50yoioufrk",
    "outputId": "c35f1dcd-0190-49fe-ef78-624fc8782259"
   },
   "outputs": [],
   "source": [
    "df.isnull().sum()"
   ]
  },
  {
   "cell_type": "code",
   "execution_count": null,
   "metadata": {
    "colab": {
     "base_uri": "https://localhost:8080/"
    },
    "id": "wyzmEy7RumjM",
    "outputId": "ab619a22-a472-4bfa-b074-7dca9312b262"
   },
   "outputs": [],
   "source": [
    "df.isna().sum()"
   ]
  },
  {
   "cell_type": "code",
   "execution_count": null,
   "metadata": {
    "colab": {
     "base_uri": "https://localhost:8080/"
    },
    "id": "g-qswv2fvAt5",
    "outputId": "ec1f2b70-3c3c-4a4c-d1f9-65c73e792bba"
   },
   "outputs": [],
   "source": [
    "df['explicit'].value_counts() # very imbalanced"
   ]
  },
  {
   "cell_type": "code",
   "execution_count": null,
   "metadata": {
    "colab": {
     "base_uri": "https://localhost:8080/",
     "height": 204
    },
    "id": "sqvr0wL4vm91",
    "outputId": "4121f342-5235-41dc-e77e-c576db9902ee"
   },
   "outputs": [],
   "source": [
    "df.drop(columns=['id', 'name', 'artists', 'release_date'],inplace=True)\n",
    "df.head()"
   ]
  },
  {
   "cell_type": "code",
   "execution_count": null,
   "metadata": {
    "colab": {
     "base_uri": "https://localhost:8080/",
     "height": 781
    },
    "id": "4XRKDbHrwYJV",
    "outputId": "df39414e-1078-4178-db56-dfd742acc64e"
   },
   "outputs": [],
   "source": [
    "plt.figure(figsize=(14,12)) \n",
    "sns.heatmap(df.corr(), annot=True, cmap='cubehelix_r')\n",
    "plt.show()"
   ]
  },
  {
   "cell_type": "code",
   "execution_count": null,
   "metadata": {},
   "outputs": [],
   "source": [
    "# do some more feature selection based on correlation heatmap\n",
    "# remove ones with less than .15 absolute correlation\n",
    "df = df.drop(columns=['duration_ms', 'key', 'liveness', 'mode', 'tempo', 'valence',\n",
    "                      'loudness', 'instrumentalness']) "
   ]
  },
  {
   "cell_type": "code",
   "execution_count": null,
   "metadata": {},
   "outputs": [],
   "source": [
    "from sklearn.model_selection import train_test_split, KFold, cross_validate\n",
    "from sklearn.tree import DecisionTreeClassifier\n",
    "from sklearn import metrics\n",
    "from imblearn.over_sampling import SMOTE # pip3 install imblearn delayed\n",
    "\n",
    "import pydotplus\n",
    "from sklearn.tree import export_graphviz\n",
    "\n",
    "# helper function for rendering tree\n",
    "def tree_graph_to_png(tree, feature_names, png_file_to_save):\n",
    "    tree_str = export_graphviz(tree, feature_names=feature_names, \n",
    "                                     filled=True, out_file=None)\n",
    "    graph = pydotplus.graph_from_dot_data(tree_str)  \n",
    "    graph.write_png(png_file_to_save)"
   ]
  },
  {
   "cell_type": "code",
   "execution_count": null,
   "metadata": {},
   "outputs": [],
   "source": [
    "# split dataset into features and target variable\n",
    "X = df.drop(columns='explicit')\n",
    "y = df.explicit\n",
    "\n",
    "# generate synthetic samples from minority class using kNN\n",
    "sm = SMOTE(random_state=0, sampling_strategy='minority')\n",
    "X_res, y_res = sm.fit_resample(X, y)\n",
    "\n",
    "# instantiate tree \n",
    "clf_tree = DecisionTreeClassifier(criterion='gini',max_depth=3,random_state=0)\n",
    "\n",
    "scoring = {'acc' : 'accuracy',  # dict of metrics \n",
    "           'prec': 'precision',\n",
    "           'rec' : 'recall',\n",
    "           'f1'  : 'f1'}\n",
    "\n",
    "# 5-fold cv\n",
    "scores = cross_validate(estimator=clf_tree,X=X_res, y=y_res, cv=5, scoring=scoring,\n",
    "                        return_train_score=True, return_estimator=True)\n",
    "\n",
    "# print eval metrics for each fold\n",
    "print(\"Accuracy:\", scores['test_acc'])\n",
    "print(\"Precision:\", scores['test_prec'])\n",
    "print(\"Recall:\", scores['test_rec'])\n",
    "print(\"f-measure:\", scores['test_f1'])"
   ]
  },
  {
   "cell_type": "code",
   "execution_count": null,
   "metadata": {},
   "outputs": [],
   "source": [
    "# visualize decision tree\n",
    "# using third tree because it has the best f-measure, other metrics? \n",
    "tree_graph_to_png(tree=scores['estimator'][2], feature_names=sorted(X_train),\n",
    "                  png_file_to_save='explicit_clf_tree.png')\n",
    "\n",
    "from IPython.display import Image\n",
    "from IPython.core.display import HTML \n",
    "PATH ='explicit_clf_tree.png'\n",
    "Image(filename = PATH)"
   ]
  }
 ],
 "metadata": {
  "colab": {
   "collapsed_sections": [],
   "include_colab_link": true,
   "name": "Welcome To Colaboratory",
   "provenance": [],
   "toc_visible": true
  },
  "kernelspec": {
   "display_name": "Python 3",
   "language": "python",
   "name": "python3"
  },
  "language_info": {
   "codemirror_mode": {
    "name": "ipython",
    "version": 3
   },
   "file_extension": ".py",
   "mimetype": "text/x-python",
   "name": "python",
   "nbconvert_exporter": "python",
   "pygments_lexer": "ipython3",
   "version": "3.8.5"
  }
 },
 "nbformat": 4,
 "nbformat_minor": 1
}
